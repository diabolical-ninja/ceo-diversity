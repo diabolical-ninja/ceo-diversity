{
  "nbformat": 4,
  "nbformat_minor": 0,
  "metadata": {
    "colab": {
      "provenance": [],
      "authorship_tag": "ABX9TyOp76HpeqF20DsSjNl036nY",
      "include_colab_link": true
    },
    "kernelspec": {
      "name": "python3",
      "display_name": "Python 3"
    },
    "language_info": {
      "name": "python"
    }
  },
  "cells": [
    {
      "cell_type": "markdown",
      "metadata": {
        "id": "view-in-github",
        "colab_type": "text"
      },
      "source": [
        "<a href=\"https://colab.research.google.com/github/diabolical-ninja/ceo-diversity/blob/main/get_company_leaders.ipynb\" target=\"_parent\"><img src=\"https://colab.research.google.com/assets/colab-badge.svg\" alt=\"Open In Colab\"/></a>"
      ]
    },
    {
      "cell_type": "markdown",
      "source": [
        "# Get company execs\n",
        "\n",
        "For each company get a list of the executives.\n"
      ],
      "metadata": {
        "id": "lGDxT6C9R-gc"
      }
    },
    {
      "cell_type": "code",
      "execution_count": 20,
      "metadata": {
        "id": "iss69m3QR7tv"
      },
      "outputs": [],
      "source": [
        "import requests\n",
        "import pandas as pd"
      ]
    },
    {
      "cell_type": "code",
      "source": [
        "# Get TOP 15 Companies\n",
        "url = \"https://asx.api.markitdigital.com/asx-research/1.0/companies/directory/file?access_token=83ff96335c2d45a094df02a206a39ff4\"\n",
        "asx_companies_df = pd.read_csv(url)\n",
        "\n",
        "\n",
        "n_largest_asx_companies_df = asx_companies_df.nlargest(15, \"Market Cap\")"
      ],
      "metadata": {
        "id": "1RXuSZfOpb4b"
      },
      "execution_count": 21,
      "outputs": []
    },
    {
      "cell_type": "code",
      "source": [
        "leaders = []\n",
        "for company_code in n_largest_asx_companies_df[\"ASX code\"]:\n",
        "  people_url = f\"https://www.asx.com.au/asx/1/company/{company_code}/people\"\n",
        "\n",
        "  company_leaders = requests.get(people_url)\n",
        "  leaders.append(\n",
        "      {\n",
        "          \"company_code\": company_code,\n",
        "          \"leaders\": company_leaders.json()\n",
        "      }\n",
        "  )\n"
      ],
      "metadata": {
        "id": "w-rYjDGOp1D5"
      },
      "execution_count": 24,
      "outputs": []
    },
    {
      "cell_type": "code",
      "source": [],
      "metadata": {
        "id": "fp8_qajOcdf5"
      },
      "execution_count": null,
      "outputs": []
    }
  ]
}