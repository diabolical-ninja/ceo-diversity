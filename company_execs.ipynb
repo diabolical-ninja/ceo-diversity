{
  "nbformat": 4,
  "nbformat_minor": 0,
  "metadata": {
    "colab": {
      "provenance": [],
      "authorship_tag": "ABX9TyPCNnXp2Mh8nr0Ca3EJ/msX",
      "include_colab_link": true
    },
    "kernelspec": {
      "name": "python3",
      "display_name": "Python 3"
    },
    "language_info": {
      "name": "python"
    }
  },
  "cells": [
    {
      "cell_type": "markdown",
      "metadata": {
        "id": "view-in-github",
        "colab_type": "text"
      },
      "source": [
        "<a href=\"https://colab.research.google.com/github/diabolical-ninja/ceo-diversity/blob/main/company_execs.ipynb\" target=\"_parent\"><img src=\"https://colab.research.google.com/assets/colab-badge.svg\" alt=\"Open In Colab\"/></a>"
      ]
    },
    {
      "cell_type": "markdown",
      "source": [
        "# Get company execs\n",
        "\n",
        "For each company get a list of the executives.\n"
      ],
      "metadata": {
        "id": "lGDxT6C9R-gc"
      }
    },
    {
      "cell_type": "code",
      "execution_count": null,
      "metadata": {
        "id": "iss69m3QR7tv"
      },
      "outputs": [],
      "source": []
    }
  ]
}